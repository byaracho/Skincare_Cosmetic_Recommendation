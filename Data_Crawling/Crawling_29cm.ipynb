{
 "cells": [
  {
   "cell_type": "code",
   "execution_count": 1,
   "metadata": {},
   "outputs": [],
   "source": [
    "import time\n",
    "from selenium import webdriver"
   ]
  },
  {
   "cell_type": "code",
   "execution_count": 56,
   "metadata": {},
   "outputs": [],
   "source": [
    "url = \"https://www.29cm.co.kr/shop/brand/659\""
   ]
  },
  {
   "cell_type": "code",
   "execution_count": null,
   "metadata": {},
   "outputs": [],
   "source": [
    "driver = webdriver.Chrome()"
   ]
  },
  {
   "cell_type": "code",
   "execution_count": 57,
   "metadata": {},
   "outputs": [],
   "source": [
    "driver.get(url)"
   ]
  },
  {
   "cell_type": "code",
   "execution_count": 58,
   "metadata": {},
   "outputs": [],
   "source": [
    "df = pd.DataFrame(columns=[\"제품명\", \"성분\"])"
   ]
  },
  {
   "cell_type": "code",
   "execution_count": null,
   "metadata": {},
   "outputs": [],
   "source": [
    "body > ui-root > div > section > ui-brand-main > div.category_warp.brand_home > div.category_lst > div.product_content > ul > li:nth-child(25) > ruler-product-list-large-item > div > a:nth-child(1) > div.imgbx > div.imgin > ruler-blazy > img"
   ]
  },
  {
   "cell_type": "code",
   "execution_count": 38,
   "metadata": {},
   "outputs": [],
   "source": [
    "driver.find_element_by_css_selector(\"li:nth-child(1) div.name\").click()"
   ]
  },
  {
   "cell_type": "code",
   "execution_count": 17,
   "metadata": {},
   "outputs": [],
   "source": [
    "name = driver.find_elements_by_css_selector(\"div.prd_info div.name\")[0].text\n",
    "ingredients = driver.find_elements_by_css_selector(\"tr:nth-child(7) div.inbx\")[1].text\n",
    "    \n",
    "df.loc[len(df)] = {\"제품명\":name, \"성분\":ingredients}"
   ]
  },
  {
   "cell_type": "code",
   "execution_count": 59,
   "metadata": {},
   "outputs": [],
   "source": [
    "for i in range(1, 30):\n",
    "    \n",
    "    driver.find_element_by_css_selector(\"li:nth-child({}) div.name\".format(i)).click()\n",
    "    time.sleep(3)\n",
    "    \n",
    "    name = driver.find_elements_by_css_selector(\"div.prd_info div.name\")[0].text\n",
    "    ingredients = driver.find_elements_by_css_selector(\"tr:nth-child(7) div.inbx\")[1].text\n",
    "    \n",
    "    df.loc[len(df)] = {\"제품명\":name, \"성분\":ingredients}\n",
    "    \n",
    "    driver.get(url)"
   ]
  },
  {
   "cell_type": "code",
   "execution_count": 60,
   "metadata": {},
   "outputs": [
    {
     "data": {
      "text/plain": [
       "29"
      ]
     },
     "execution_count": 60,
     "metadata": {},
     "output_type": "execute_result"
    }
   ],
   "source": [
    "len(df)"
   ]
  },
  {
   "cell_type": "code",
   "execution_count": 61,
   "metadata": {},
   "outputs": [],
   "source": [
    "df.to_csv('clairs.csv', index=False, encoding='utf-8')"
   ]
  },
  {
   "cell_type": "code",
   "execution_count": 62,
   "metadata": {},
   "outputs": [
    {
     "data": {
      "text/html": [
       "<div>\n",
       "<style scoped>\n",
       "    .dataframe tbody tr th:only-of-type {\n",
       "        vertical-align: middle;\n",
       "    }\n",
       "\n",
       "    .dataframe tbody tr th {\n",
       "        vertical-align: top;\n",
       "    }\n",
       "\n",
       "    .dataframe thead th {\n",
       "        text-align: right;\n",
       "    }\n",
       "</style>\n",
       "<table border=\"1\" class=\"dataframe\">\n",
       "  <thead>\n",
       "    <tr style=\"text-align: right;\">\n",
       "      <th></th>\n",
       "      <th>제품명</th>\n",
       "      <th>성분</th>\n",
       "    </tr>\n",
       "  </thead>\n",
       "  <tbody>\n",
       "    <tr>\n",
       "      <th>0</th>\n",
       "      <td>서플프레퍼레이션 언센티드 토너 (무향)</td>\n",
       "      <td>베타글루칸/리피듀어/히알루론산/병풀추출물</td>\n",
       "    </tr>\n",
       "    <tr>\n",
       "      <th>1</th>\n",
       "      <td>프레쉴리쥬스드비타민E마스크</td>\n",
       "      <td>정제수, 글리세린, 부틸렌글라이콜,토코페릴아세테이트,나이아신아마이드</td>\n",
       "    </tr>\n",
       "    <tr>\n",
       "      <th>2</th>\n",
       "      <td>서플프레퍼레이션 올오버로션</td>\n",
       "      <td>글리세린,쉐어버터,베타-글루칸, 세라마이드엔피, 폴리쿼터늄-51</td>\n",
       "    </tr>\n",
       "    <tr>\n",
       "      <th>3</th>\n",
       "      <td>리치모이스트수딩시트마스크(10 매)</td>\n",
       "      <td>100% 순면,피토올리고,밀아미노산,휴먼올리고펩타이드,병풀추출물</td>\n",
       "    </tr>\n",
       "    <tr>\n",
       "      <th>4</th>\n",
       "      <td>미드나잇블루 유스 액티베이팅 드롭</td>\n",
       "      <td>에스에이치-올리고펩타이드-1, 에스에이치-폴리펩타이드-1, 블루베리추출물,구아이아줄...</td>\n",
       "    </tr>\n",
       "    <tr>\n",
       "      <th>5</th>\n",
       "      <td>[앙코르,29CM단독]클레어스+로우로우 바캉스 뷰티 파우치 증정</td>\n",
       "      <td>상품 상세 정보 참고</td>\n",
       "    </tr>\n",
       "    <tr>\n",
       "      <th>6</th>\n",
       "      <td>서플프레퍼레이션 페이셜 토너</td>\n",
       "      <td>베타글루칸/리피듀어/히알루론산/병풀추출물</td>\n",
       "    </tr>\n",
       "    <tr>\n",
       "      <th>7</th>\n",
       "      <td>미드데이블루선로션SPF40/PA++</td>\n",
       "      <td>(전성분) : 정제수, 사이클로펜타실록산, 에칠헥실메톡시신나메이트, 부틸렌글라이콜,...</td>\n",
       "    </tr>\n",
       "    <tr>\n",
       "      <th>8</th>\n",
       "      <td>클레어스 모찌비비 쿠션팩트 [메리비트윈]</td>\n",
       "      <td>나이아신아마이드,아데노신,알로에베라잎즙</td>\n",
       "    </tr>\n",
       "    <tr>\n",
       "      <th>9</th>\n",
       "      <td>THANK YOU BOX (for Dry skin)</td>\n",
       "      <td>제품별 상품페이지 참조</td>\n",
       "    </tr>\n",
       "    <tr>\n",
       "      <th>10</th>\n",
       "      <td>토너 짝꿍 반반솜 (120매)</td>\n",
       "      <td>100% 순면</td>\n",
       "    </tr>\n",
       "    <tr>\n",
       "      <th>11</th>\n",
       "      <td>리치모이스트수딩세럼</td>\n",
       "      <td>베타글루칸/피토올리고/히알루론산</td>\n",
       "    </tr>\n",
       "    <tr>\n",
       "      <th>12</th>\n",
       "      <td>THANK YOU box 2</td>\n",
       "      <td>상품별 상품페이지내 제공</td>\n",
       "    </tr>\n",
       "    <tr>\n",
       "      <th>13</th>\n",
       "      <td>FRESH BOX (for Oily skin)</td>\n",
       "      <td>상품별 상품페이지 내용 참조</td>\n",
       "    </tr>\n",
       "    <tr>\n",
       "      <th>14</th>\n",
       "      <td>BASIC &amp; BEST SET</td>\n",
       "      <td>상품별 상품페이지 내용 참조</td>\n",
       "    </tr>\n",
       "    <tr>\n",
       "      <th>15</th>\n",
       "      <td>MIDNIGHT BLUE CALMING CREAM</td>\n",
       "      <td>구아야줄렌,병풀추출물,세라마이드3,아르간오일</td>\n",
       "    </tr>\n",
       "    <tr>\n",
       "      <th>16</th>\n",
       "      <td>리치모이스트수딩시트마스크</td>\n",
       "      <td>100% 순면,피토올리고,밀아미노산,휴먼올리고펩타이드,병풀추출물</td>\n",
       "    </tr>\n",
       "    <tr>\n",
       "      <th>17</th>\n",
       "      <td>클레어스 스킨 커버 시리즈(컨실러+비비크림)</td>\n",
       "      <td>정지수,사이클로펜타실록산,카프릴릭/카프릭트리글리세라이드,부틸렌글라이콜,티타늄디옥사이...</td>\n",
       "    </tr>\n",
       "    <tr>\n",
       "      <th>18</th>\n",
       "      <td>GENTLE BLACK BOX (for Deeper Cleansing)</td>\n",
       "      <td>블랙슈거,검은콩오일,흑설탕가루</td>\n",
       "    </tr>\n",
       "    <tr>\n",
       "      <th>19</th>\n",
       "      <td>크리미앤내추럴핏컨실러</td>\n",
       "      <td>정제수,사이클로펜타실록산,카프릴릭/카프릭트리글리세라이드,부틸렌글라이콜,티타늄디옥사이...</td>\n",
       "    </tr>\n",
       "    <tr>\n",
       "      <th>20</th>\n",
       "      <td>FRESHLY JUICED VITAMIN DROP</td>\n",
       "      <td>L-아스코르빈산,유기농병풀추출물,유자추출물,브로콜리추출물</td>\n",
       "    </tr>\n",
       "    <tr>\n",
       "      <th>21</th>\n",
       "      <td>GENTLE BLACK DEEP CLEANSING OIL</td>\n",
       "      <td>검은콩오일,검정깨오일,블랙커런트씨드오일,호호바유,쉐어버터</td>\n",
       "    </tr>\n",
       "    <tr>\n",
       "      <th>22</th>\n",
       "      <td>GENTLE BLACK SUGAR CHARCOAL SOAP</td>\n",
       "      <td>코코넛오일,차콜파우더,유기농모로코가슬,흑설탕,화산송이</td>\n",
       "    </tr>\n",
       "    <tr>\n",
       "      <th>23</th>\n",
       "      <td>RICH MOIST FACIAL SOAP (리치 모이스트 페이셜 솝)</td>\n",
       "      <td>칼라민파우더,코코넛오일,올리브오일,호호바오일,아몬드오일,아보카도오일,비타민E</td>\n",
       "    </tr>\n",
       "    <tr>\n",
       "      <th>24</th>\n",
       "      <td>MANUKA HONEY &amp; CHOCO BODY SOAP (마누카허니 앤 초코 바디 솝)</td>\n",
       "      <td>AHA,알로에베라잎즙,쉐어버터,초콜릿오일,올리브오일</td>\n",
       "    </tr>\n",
       "    <tr>\n",
       "      <th>25</th>\n",
       "      <td>젠틀블랙슈거페이셜폴리쉬</td>\n",
       "      <td>전성분 : 카프릴릭/카프릭트리글리세라이드, 흑설탕가루, 세틸에칠헥사노에이트, 페트롤...</td>\n",
       "    </tr>\n",
       "    <tr>\n",
       "      <th>26</th>\n",
       "      <td>리치모이스트포밍클렌저</td>\n",
       "      <td>히알루론산,알로에베라잎즙,어성초추출물,티트리잎오일</td>\n",
       "    </tr>\n",
       "    <tr>\n",
       "      <th>27</th>\n",
       "      <td>일루미네이팅서플블레미쉬크림</td>\n",
       "      <td>히알루론산,나이아신아마이드,알란토인,아데노신,알로에베라잎즙</td>\n",
       "    </tr>\n",
       "    <tr>\n",
       "      <th>28</th>\n",
       "      <td>리치모이스트수딩크림</td>\n",
       "      <td>글리세린/히알루론산/베타글루칸</td>\n",
       "    </tr>\n",
       "  </tbody>\n",
       "</table>\n",
       "</div>"
      ],
      "text/plain": [
       "                                                 제품명  \\\n",
       "0                              서플프레퍼레이션 언센티드 토너 (무향)   \n",
       "1                                     프레쉴리쥬스드비타민E마스크   \n",
       "2                                     서플프레퍼레이션 올오버로션   \n",
       "3                                리치모이스트수딩시트마스크(10 매)   \n",
       "4                                 미드나잇블루 유스 액티베이팅 드롭   \n",
       "5                [앙코르,29CM단독]클레어스+로우로우 바캉스 뷰티 파우치 증정   \n",
       "6                                    서플프레퍼레이션 페이셜 토너   \n",
       "7                                미드데이블루선로션SPF40/PA++   \n",
       "8                             클레어스 모찌비비 쿠션팩트 [메리비트윈]   \n",
       "9                       THANK YOU BOX (for Dry skin)   \n",
       "10                                  토너 짝꿍 반반솜 (120매)   \n",
       "11                                        리치모이스트수딩세럼   \n",
       "12                                   THANK YOU box 2   \n",
       "13                         FRESH BOX (for Oily skin)   \n",
       "14                                  BASIC & BEST SET   \n",
       "15                       MIDNIGHT BLUE CALMING CREAM   \n",
       "16                                     리치모이스트수딩시트마스크   \n",
       "17                          클레어스 스킨 커버 시리즈(컨실러+비비크림)   \n",
       "18           GENTLE BLACK BOX (for Deeper Cleansing)   \n",
       "19                                       크리미앤내추럴핏컨실러   \n",
       "20                       FRESHLY JUICED VITAMIN DROP   \n",
       "21                   GENTLE BLACK DEEP CLEANSING OIL   \n",
       "22                  GENTLE BLACK SUGAR CHARCOAL SOAP   \n",
       "23            RICH MOIST FACIAL SOAP (리치 모이스트 페이셜 솝)   \n",
       "24  MANUKA HONEY & CHOCO BODY SOAP (마누카허니 앤 초코 바디 솝)   \n",
       "25                                      젠틀블랙슈거페이셜폴리쉬   \n",
       "26                                       리치모이스트포밍클렌저   \n",
       "27                                    일루미네이팅서플블레미쉬크림   \n",
       "28                                        리치모이스트수딩크림   \n",
       "\n",
       "                                                   성분  \n",
       "0                              베타글루칸/리피듀어/히알루론산/병풀추출물  \n",
       "1               정제수, 글리세린, 부틸렌글라이콜,토코페릴아세테이트,나이아신아마이드  \n",
       "2                 글리세린,쉐어버터,베타-글루칸, 세라마이드엔피, 폴리쿼터늄-51  \n",
       "3                 100% 순면,피토올리고,밀아미노산,휴먼올리고펩타이드,병풀추출물  \n",
       "4   에스에이치-올리고펩타이드-1, 에스에이치-폴리펩타이드-1, 블루베리추출물,구아이아줄...  \n",
       "5                                         상품 상세 정보 참고  \n",
       "6                              베타글루칸/리피듀어/히알루론산/병풀추출물  \n",
       "7   (전성분) : 정제수, 사이클로펜타실록산, 에칠헥실메톡시신나메이트, 부틸렌글라이콜,...  \n",
       "8                               나이아신아마이드,아데노신,알로에베라잎즙  \n",
       "9                                        제품별 상품페이지 참조  \n",
       "10                                            100% 순면  \n",
       "11                                  베타글루칸/피토올리고/히알루론산  \n",
       "12                                      상품별 상품페이지내 제공  \n",
       "13                                    상품별 상품페이지 내용 참조  \n",
       "14                                    상품별 상품페이지 내용 참조  \n",
       "15                           구아야줄렌,병풀추출물,세라마이드3,아르간오일  \n",
       "16                100% 순면,피토올리고,밀아미노산,휴먼올리고펩타이드,병풀추출물  \n",
       "17  정지수,사이클로펜타실록산,카프릴릭/카프릭트리글리세라이드,부틸렌글라이콜,티타늄디옥사이...  \n",
       "18                                   블랙슈거,검은콩오일,흑설탕가루  \n",
       "19  정제수,사이클로펜타실록산,카프릴릭/카프릭트리글리세라이드,부틸렌글라이콜,티타늄디옥사이...  \n",
       "20                    L-아스코르빈산,유기농병풀추출물,유자추출물,브로콜리추출물  \n",
       "21                    검은콩오일,검정깨오일,블랙커런트씨드오일,호호바유,쉐어버터  \n",
       "22                      코코넛오일,차콜파우더,유기농모로코가슬,흑설탕,화산송이  \n",
       "23         칼라민파우더,코코넛오일,올리브오일,호호바오일,아몬드오일,아보카도오일,비타민E  \n",
       "24                       AHA,알로에베라잎즙,쉐어버터,초콜릿오일,올리브오일  \n",
       "25  전성분 : 카프릴릭/카프릭트리글리세라이드, 흑설탕가루, 세틸에칠헥사노에이트, 페트롤...  \n",
       "26                        히알루론산,알로에베라잎즙,어성초추출물,티트리잎오일  \n",
       "27                   히알루론산,나이아신아마이드,알란토인,아데노신,알로에베라잎즙  \n",
       "28                                   글리세린/히알루론산/베타글루칸  "
      ]
     },
     "execution_count": 62,
     "metadata": {},
     "output_type": "execute_result"
    }
   ],
   "source": [
    "test = pd.read_csv('clairs.csv', encoding='utf-8')\n",
    "test"
   ]
  },
  {
   "cell_type": "code",
   "execution_count": 110,
   "metadata": {},
   "outputs": [],
   "source": [
    "import codecs\n",
    " \n",
    "infile = codecs.open('theordinary.csv', 'r', encoding='utf-8')\n",
    "outfile = codecs.open('theordinary2.csv', 'w', encoding='euc_kr')\n",
    " \n",
    "for line in infile:\n",
    "    line = line.replace(u'\\xa0', ' ')    # 가끔 \\xa0 문자열로 인해 오류가 발생하므로 변환\n",
    "    outfile.write(line)\n",
    "    \n",
    "infile.close()\n",
    "outfile.close()"
   ]
  },
  {
   "cell_type": "code",
   "execution_count": null,
   "metadata": {},
   "outputs": [],
   "source": []
  },
  {
   "cell_type": "code",
   "execution_count": null,
   "metadata": {},
   "outputs": [],
   "source": []
  },
  {
   "cell_type": "code",
   "execution_count": 11,
   "metadata": {},
   "outputs": [],
   "source": [
    "driver.find_element_by_css_selector(\"li:nth-child(1) div.name\").click()"
   ]
  },
  {
   "cell_type": "code",
   "execution_count": 75,
   "metadata": {},
   "outputs": [
    {
     "data": {
      "text/plain": [
       "'[29CM단독] Natural Moisturizing Factors + HA 100ml'"
      ]
     },
     "execution_count": 75,
     "metadata": {},
     "output_type": "execute_result"
    }
   ],
   "source": [
    "name = driver.find_elements_by_css_selector(\"div.prd_info div.name\")[0].text"
   ]
  },
  {
   "cell_type": "code",
   "execution_count": 73,
   "metadata": {
    "scrolled": true
   },
   "outputs": [
    {
     "data": {
      "text/plain": [
       "'정제수,카프릴릭/카프릭트리글리세라이드,세틸알코올,프로판디올,스테아릴알코올,글리세린,폴리소르베이트60,페녹시에탄올,트리에탄올아민,펜틸렌글라이콜,카보머,소듐피씨에이,소듐락테이트,시트릭애씨드,프룩토오스,레시틴,리놀레익애씨드,소듐하이드록사이드,우레아,알지닌,소듐하이알루로네이트,아스파틱애씨드,피토스테릴카놀라글리세라이드,트리소듐에칠렌디아민디석시네이트,이소세테스-20,피씨에이,올레익애씨드,팔미틱애씨드,클로페네신,알란토인,말토스,소듐클로라이드,트레할로스,글라이신,알라닌,스테아릭애씨드,토코페롤,트리올레인,세린,발린,이소류신,프롤린,트레오닌,글루코오스,히스티딘,페닐알라닌'"
      ]
     },
     "execution_count": 73,
     "metadata": {},
     "output_type": "execute_result"
    }
   ],
   "source": [
    "ingredients = driver.find_elements_by_css_selector(\"tr:nth-child(7) div.inbx\")[1].text"
   ]
  },
  {
   "cell_type": "code",
   "execution_count": 96,
   "metadata": {},
   "outputs": [
    {
     "data": {
      "text/plain": [
       "'[29CM 단독] Glycolic Acid 7% Toning Solution'"
      ]
     },
     "execution_count": 96,
     "metadata": {},
     "output_type": "execute_result"
    }
   ],
   "source": [
    "name = driver.find_element_by_css_selector(\"li:nth-child(3) div.name\").text\n",
    "name"
   ]
  },
  {
   "cell_type": "code",
   "execution_count": 101,
   "metadata": {},
   "outputs": [],
   "source": [
    "name = driver.find_elements_by_css_selector(\"div.prd_info div.name\")[0].text"
   ]
  },
  {
   "cell_type": "code",
   "execution_count": 102,
   "metadata": {},
   "outputs": [
    {
     "data": {
      "text/plain": [
       "'[29CM 단독] The Ordinary EUK 134 0.1%'"
      ]
     },
     "execution_count": 102,
     "metadata": {},
     "output_type": "execute_result"
    }
   ],
   "source": [
    "name"
   ]
  },
  {
   "cell_type": "code",
   "execution_count": null,
   "metadata": {},
   "outputs": [],
   "source": []
  }
 ],
 "metadata": {
  "kernelspec": {
   "display_name": "Python 3",
   "language": "python",
   "name": "python3"
  },
  "language_info": {
   "codemirror_mode": {
    "name": "ipython",
    "version": 3
   },
   "file_extension": ".py",
   "mimetype": "text/x-python",
   "name": "python",
   "nbconvert_exporter": "python",
   "pygments_lexer": "ipython3",
   "version": "3.6.4"
  }
 },
 "nbformat": 4,
 "nbformat_minor": 2
}
