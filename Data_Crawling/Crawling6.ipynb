{
 "cells": [
  {
   "cell_type": "code",
   "execution_count": null,
   "metadata": {},
   "outputs": [],
   "source": [
    "from selenium import webdriver"
   ]
  },
  {
   "cell_type": "code",
   "execution_count": null,
   "metadata": {},
   "outputs": [],
   "source": [
    "url = \"https://www.paulaschoice.com/ingredient-dictionary\""
   ]
  },
  {
   "cell_type": "code",
   "execution_count": null,
   "metadata": {},
   "outputs": [],
   "source": [
    "driver = webdriver.Chrome()\n",
    "driver.get(url)"
   ]
  },
  {
   "cell_type": "code",
   "execution_count": null,
   "metadata": {},
   "outputs": [],
   "source": [
    "hrefs = []"
   ]
  },
  {
   "cell_type": "code",
   "execution_count": null,
   "metadata": {},
   "outputs": [],
   "source": [
    "for i in range(1,1716):\n",
    "    element = driver.find_element_by_css_selector(\"tr:nth-child(2) td.col-ingredient.ingredient-info h2 a\")\n",
    "    href = element.get_attribute(\"href\")\n",
    "    hrefs.append(href)\n",
    "    \n",
    "hrefs"
   ]
  },
  {
   "cell_type": "code",
   "execution_count": null,
   "metadata": {},
   "outputs": [],
   "source": [
    "len(hrefs)"
   ]
  },
  {
   "cell_type": "code",
   "execution_count": null,
   "metadata": {},
   "outputs": [],
   "source": [
    "df = pd.DataFrame(columns=[\"Ingredients\", \"Rate\", \"Category\", \"Information\"])"
   ]
  },
  {
   "cell_type": "code",
   "execution_count": null,
   "metadata": {},
   "outputs": [],
   "source": [
    "for href in hrefs:\n",
    "    \n",
    "    driver.get(href)\n",
    "    time.sleep(2)\n",
    "    \n",
    "    ingredient = driver.find_elements_by_css_selector(\"div.u-miscellaneous-pagetitle h1\")[0].text\n",
    "    rate = driver.find_elements_by_css_selector(\"div.main-content li:nth-child(1) span\")[0].text\n",
    "    category = driver.find_elements_by_css_selector(\"div.main-content li:nth-child(2) a\")[0].text\n",
    "    info = driver.find_elements_by_css_selector(\"div.main-content p:nth-child(1)\")[0].text\n",
    "    \n",
    "    df.loc[len(df)] = {\"Ingredients\":ingredient, \"Rate\":rate, \"Category\":category, \"Information\":info}\n",
    "    \n",
    "    time.sleep(5)"
   ]
  },
  {
   "cell_type": "code",
   "execution_count": null,
   "metadata": {},
   "outputs": [],
   "source": [
    "driver.find_elements_by_css_selector(\"div.u-miscellaneous-pagetitle h1\")[0].text"
   ]
  },
  {
   "cell_type": "code",
   "execution_count": null,
   "metadata": {},
   "outputs": [],
   "source": [
    "driver.find_elements_by_css_selector(\"div.main-content li:nth-child(2) a\")[0].text"
   ]
  },
  {
   "cell_type": "code",
   "execution_count": null,
   "metadata": {},
   "outputs": [],
   "source": [
    "driver.find_elements_by_css_selector(\"div.main-content li:nth-child(1) span\")[0].text"
   ]
  },
  {
   "cell_type": "code",
   "execution_count": null,
   "metadata": {},
   "outputs": [],
   "source": [
    "driver.find_elements_by_css_selector(\"div.main-content p:nth-child(1)\")[0].text"
   ]
  },
  {
   "cell_type": "code",
   "execution_count": null,
   "metadata": {},
   "outputs": [],
   "source": []
  }
 ],
 "metadata": {
  "kernelspec": {
   "display_name": "Python 3",
   "language": "python",
   "name": "python3"
  },
  "language_info": {
   "codemirror_mode": {
    "name": "ipython",
    "version": 3
   },
   "file_extension": ".py",
   "mimetype": "text/x-python",
   "name": "python",
   "nbconvert_exporter": "python",
   "pygments_lexer": "ipython3",
   "version": "3.6.4"
  }
 },
 "nbformat": 4,
 "nbformat_minor": 2
}
