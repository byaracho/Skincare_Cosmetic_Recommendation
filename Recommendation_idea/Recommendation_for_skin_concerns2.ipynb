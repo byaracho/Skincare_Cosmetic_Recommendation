{
 "cells": [
  {
   "cell_type": "code",
   "execution_count": 72,
   "metadata": {},
   "outputs": [],
   "source": [
    "pd.set_option('display.max_columns', None)"
   ]
  },
  {
   "cell_type": "code",
   "execution_count": 11,
   "metadata": {},
   "outputs": [
    {
     "data": {
      "text/html": [
       "<div>\n",
       "<style scoped>\n",
       "    .dataframe tbody tr th:only-of-type {\n",
       "        vertical-align: middle;\n",
       "    }\n",
       "\n",
       "    .dataframe tbody tr th {\n",
       "        vertical-align: top;\n",
       "    }\n",
       "\n",
       "    .dataframe thead th {\n",
       "        text-align: right;\n",
       "    }\n",
       "</style>\n",
       "<table border=\"1\" class=\"dataframe\">\n",
       "  <thead>\n",
       "    <tr style=\"text-align: right;\">\n",
       "      <th></th>\n",
       "      <th>Effect</th>\n",
       "      <th>Ingredients</th>\n",
       "    </tr>\n",
       "  </thead>\n",
       "  <tbody>\n",
       "    <tr>\n",
       "      <th>0</th>\n",
       "      <td>expoliates1</td>\n",
       "      <td>betaine salicylate, BHA (beta hydroxy acid), h...</td>\n",
       "    </tr>\n",
       "    <tr>\n",
       "      <th>1</th>\n",
       "      <td>expoliates2</td>\n",
       "      <td>lactic acid, AHA, glycolic acid, tartaric acid...</td>\n",
       "    </tr>\n",
       "    <tr>\n",
       "      <th>2</th>\n",
       "      <td>skin_texture</td>\n",
       "      <td>ascorbic acid, caprooyl phytosphingosine, capr...</td>\n",
       "    </tr>\n",
       "    <tr>\n",
       "      <th>3</th>\n",
       "      <td>skin_tone</td>\n",
       "      <td>AHA, lemon juice, myristoyl tripeptide-31, nia...</td>\n",
       "    </tr>\n",
       "    <tr>\n",
       "      <th>4</th>\n",
       "      <td>sebum</td>\n",
       "      <td>mandelic acid, squalane, zinc, pyrrolidone car...</td>\n",
       "    </tr>\n",
       "    <tr>\n",
       "      <th>5</th>\n",
       "      <td>hydration</td>\n",
       "      <td>hydrolyzed acacia macrostachya seed extract, m...</td>\n",
       "    </tr>\n",
       "    <tr>\n",
       "      <th>6</th>\n",
       "      <td>rosacea</td>\n",
       "      <td>4-T-butylcyclohexanol, azelaic acid, beta-gluc...</td>\n",
       "    </tr>\n",
       "    <tr>\n",
       "      <th>7</th>\n",
       "      <td>pigmentation</td>\n",
       "      <td>arbutin, alpha arbutin, beta arbutin, caffeine...</td>\n",
       "    </tr>\n",
       "    <tr>\n",
       "      <th>8</th>\n",
       "      <td>ageing</td>\n",
       "      <td>alcohol, alpha lipoic acid, azelaoyl bis-dipep...</td>\n",
       "    </tr>\n",
       "    <tr>\n",
       "      <th>9</th>\n",
       "      <td>fine_lines</td>\n",
       "      <td>botanicals, palmitoyl pentapeptide-4, Palmitoy...</td>\n",
       "    </tr>\n",
       "    <tr>\n",
       "      <th>10</th>\n",
       "      <td>pore</td>\n",
       "      <td>salicylic acid</td>\n",
       "    </tr>\n",
       "    <tr>\n",
       "      <th>11</th>\n",
       "      <td>acne</td>\n",
       "      <td>azelaic acid, benzoyl peroxide, retinoic acid</td>\n",
       "    </tr>\n",
       "    <tr>\n",
       "      <th>12</th>\n",
       "      <td>blemishes</td>\n",
       "      <td>azelaic acid, lactic acid, salicylic acid, nia...</td>\n",
       "    </tr>\n",
       "    <tr>\n",
       "      <th>13</th>\n",
       "      <td>soothing</td>\n",
       "      <td>apricot kernel oil, argan oil, bis-phenylpropy...</td>\n",
       "    </tr>\n",
       "    <tr>\n",
       "      <th>14</th>\n",
       "      <td>inflammation</td>\n",
       "      <td>lactic acid, glycolic acid, tartaric acid, cit...</td>\n",
       "    </tr>\n",
       "    <tr>\n",
       "      <th>15</th>\n",
       "      <td>dark_circle</td>\n",
       "      <td>arbutin, ascorbic acid, coffea arabica (coffee...</td>\n",
       "    </tr>\n",
       "    <tr>\n",
       "      <th>16</th>\n",
       "      <td>puffiness</td>\n",
       "      <td>cucumber extract, caffeine, egcg, epigallocate...</td>\n",
       "    </tr>\n",
       "    <tr>\n",
       "      <th>17</th>\n",
       "      <td>radiant</td>\n",
       "      <td>cucumber extract, lactic acid, marula oil</td>\n",
       "    </tr>\n",
       "    <tr>\n",
       "      <th>18</th>\n",
       "      <td>skin_conditioning</td>\n",
       "      <td>dimethyl isosorbide, titanium dioxide, zinc oxide</td>\n",
       "    </tr>\n",
       "  </tbody>\n",
       "</table>\n",
       "</div>"
      ],
      "text/plain": [
       "               Effect                                        Ingredients\n",
       "0         expoliates1  betaine salicylate, BHA (beta hydroxy acid), h...\n",
       "1         expoliates2  lactic acid, AHA, glycolic acid, tartaric acid...\n",
       "2        skin_texture  ascorbic acid, caprooyl phytosphingosine, capr...\n",
       "3           skin_tone  AHA, lemon juice, myristoyl tripeptide-31, nia...\n",
       "4               sebum  mandelic acid, squalane, zinc, pyrrolidone car...\n",
       "5           hydration  hydrolyzed acacia macrostachya seed extract, m...\n",
       "6             rosacea  4-T-butylcyclohexanol, azelaic acid, beta-gluc...\n",
       "7        pigmentation  arbutin, alpha arbutin, beta arbutin, caffeine...\n",
       "8              ageing  alcohol, alpha lipoic acid, azelaoyl bis-dipep...\n",
       "9          fine_lines  botanicals, palmitoyl pentapeptide-4, Palmitoy...\n",
       "10               pore                                     salicylic acid\n",
       "11               acne      azelaic acid, benzoyl peroxide, retinoic acid\n",
       "12          blemishes  azelaic acid, lactic acid, salicylic acid, nia...\n",
       "13           soothing  apricot kernel oil, argan oil, bis-phenylpropy...\n",
       "14       inflammation  lactic acid, glycolic acid, tartaric acid, cit...\n",
       "15        dark_circle  arbutin, ascorbic acid, coffea arabica (coffee...\n",
       "16          puffiness  cucumber extract, caffeine, egcg, epigallocate...\n",
       "17            radiant          cucumber extract, lactic acid, marula oil\n",
       "18  skin_conditioning  dimethyl isosorbide, titanium dioxide, zinc oxide"
      ]
     },
     "execution_count": 11,
     "metadata": {},
     "output_type": "execute_result"
    }
   ],
   "source": [
    "df1 = pd.read_csv('../ing_data/Ingredients_Effect2.csv')\n",
    "df1"
   ]
  },
  {
   "cell_type": "code",
   "execution_count": 12,
   "metadata": {},
   "outputs": [
    {
     "data": {
      "text/html": [
       "<div>\n",
       "<style scoped>\n",
       "    .dataframe tbody tr th:only-of-type {\n",
       "        vertical-align: middle;\n",
       "    }\n",
       "\n",
       "    .dataframe tbody tr th {\n",
       "        vertical-align: top;\n",
       "    }\n",
       "\n",
       "    .dataframe thead th {\n",
       "        text-align: right;\n",
       "    }\n",
       "</style>\n",
       "<table border=\"1\" class=\"dataframe\">\n",
       "  <thead>\n",
       "    <tr style=\"text-align: right;\">\n",
       "      <th></th>\n",
       "      <th>product</th>\n",
       "      <th>ethoxydiglycol</th>\n",
       "      <th>ethyl ascorbic acid</th>\n",
       "      <th>hydroxyphenoxy propionic acid</th>\n",
       "      <th>phenylethyl resorcinol</th>\n",
       "      <th>superoxide dismutase</th>\n",
       "      <th>saccharomyces/zinc ferment</th>\n",
       "      <th>aqua (water)</th>\n",
       "      <th>malachite extract</th>\n",
       "      <th>pseudoalteromonas exopolysaccharides</th>\n",
       "      <th>...</th>\n",
       "      <th>Mahonia aquifolium root extract</th>\n",
       "      <th>sodium carboxymethyl beta-glucan</th>\n",
       "      <th>azelaoyl bis-dipeptide-10</th>\n",
       "      <th>dipentaerythrityl hexacaprylate/hexacaprate</th>\n",
       "      <th>rose hip seed oil</th>\n",
       "      <th>caprooyl sphingosine</th>\n",
       "      <th>arigreline</th>\n",
       "      <th>zinc</th>\n",
       "      <th>glyceryl palmitate</th>\n",
       "      <th>Camellia japonica</th>\n",
       "    </tr>\n",
       "  </thead>\n",
       "  <tbody>\n",
       "  </tbody>\n",
       "</table>\n",
       "<p>0 rows × 516 columns</p>\n",
       "</div>"
      ],
      "text/plain": [
       "Empty DataFrame\n",
       "Columns: [product, ethoxydiglycol, ethyl ascorbic acid, hydroxyphenoxy propionic acid, phenylethyl resorcinol, superoxide dismutase, saccharomyces/zinc ferment, aqua (water), malachite extract, pseudoalteromonas exopolysaccharides, mirabilis jalapa extract, polypodium vulgare rhizome extract, cetraria islandica thallus extract, sphagnum magellanicum extract, arginine, propanediol, glycerin, pentylene glycol, butylene glycol, sodium salicylate, gellan gum, sodium chloride, ppg-26-buteth-26, peg-40 hydrogenated castor oil, citric acid, tromethamine, phenoxyethanol, chlorphenesin, squalane, inulin, algae extract, alpha-glucan oligosaccharide, solanum lycopersicum (tomato) fruit extract, dimethylmethoxy chromanol, xanthophyll, pinus pinaster bark extract, polygonum aviculare extract, hydrolyzed sodium hyaluronate, alteromonas ferment extract, padina pavonica thallus extract, glycine, alanine, serine, valine, proline, threonine, isoleucine, histidine, phenylalanine, aspartic acid, pca, sodium pca, sodium lactate, simmondsia chinensis (jojoba) seed oil, melanin, sucrose, tapioca starch, acrylates/c10-30 alkyl acrylate crosspolymer, carbomer, trisodium ethylenediamine disuccinate, isoceteth-20, triethanolamine, polyurethane-34, potassium sorbate, sodium benzoate, 1,2-hexanediol, ethylhexylglycerin, caprylyl glycol, ascorbyl glucoside, aminomethyl propanol, xanthan gum, dimethyl isosorbide, coconut alkanes, tetrahexyldecyl ascorbate, ethyl linoleate, coco-caprylate/caprate, ascorbic acid, isodecyl neopentanoate, isononyl isononanoate, ethylene/propylene/styrene copolymer, ethylhexyl palmitate, silica dimethyl silylate, sodium hyaluronate, glucomannan, butylene/ethylene/styrene copolymer, acrylates/ethylhexyl acrylate crosspolymer, trihydroxystearin, bht, thioctic acid, dimethicone, polysilicone-11, peg-10 dimethicone, resveratrol, ferulic acid, ethylbisiminomethylguaiacol manganese chloride, methyl methacrylate/peg/ppg-4/3 methacrylate crosspolymer, albizia julibrissin bark extract, myristoyl nonapeptide-3, palmitoyl tripeptide-38, dipeptide diaminobutyroyl benzylamide diacetate, ...]\n",
       "Index: []\n",
       "\n",
       "[0 rows x 516 columns]"
      ]
     },
     "execution_count": 12,
     "metadata": {},
     "output_type": "execute_result"
    }
   ],
   "source": [
    "df2 = pd.read_csv('user.csv')\n",
    "df2"
   ]
  },
  {
   "cell_type": "code",
   "execution_count": 65,
   "metadata": {},
   "outputs": [],
   "source": [
    "user = ['puffiness', 'soothing', 'pigmentation']\n",
    "df3 = pd.DataFrame()\n",
    "\n",
    "for i in user:\n",
    "    df = df1[df1['Effect'] == i]\n",
    "    df3 = pd.concat([df3, df])\n",
    "    \n",
    "df3 = df3.reset_index(drop=True)"
   ]
  },
  {
   "cell_type": "code",
   "execution_count": 66,
   "metadata": {},
   "outputs": [],
   "source": [
    "need_ing = []\n",
    "\n",
    "for i in range(len(df3)):\n",
    "    ing = df3['Ingredients'][i].split(', ')\n",
    "    \n",
    "    for j in range(len(ing)):\n",
    "        if ing[j] not in need_ing:\n",
    "            need_ing.append(ing[j])\n",
    "        else:\n",
    "            pass"
   ]
  },
  {
   "cell_type": "code",
   "execution_count": 67,
   "metadata": {},
   "outputs": [],
   "source": [
    "df2.loc[0] = 0\n",
    "\n",
    "for i in range(len(need_ing)):\n",
    "        df2.loc[0][need_ing[i]] = 1\n",
    "        \n",
    "df2['product'][0] = 'recommend'"
   ]
  },
  {
   "cell_type": "code",
   "execution_count": 69,
   "metadata": {},
   "outputs": [],
   "source": [
    "df3 = pd.read_csv('Product_p.csv')\n",
    "df3 = pd.concat([df2, df3])\n",
    "df3 = df3.reset_index(drop=True)"
   ]
  },
  {
   "cell_type": "code",
   "execution_count": 70,
   "metadata": {},
   "outputs": [],
   "source": [
    "df4 = df3.drop(['product'], axis=1)"
   ]
  },
  {
   "cell_type": "code",
   "execution_count": 71,
   "metadata": {},
   "outputs": [],
   "source": [
    "df4 = df4.astype(int)"
   ]
  },
  {
   "cell_type": "code",
   "execution_count": 73,
   "metadata": {},
   "outputs": [
    {
     "name": "stdout",
     "output_type": "stream",
     "text": [
      "subq eyes\n"
     ]
    }
   ],
   "source": [
    "a = df4.loc[0].nonzero()[0]\n",
    "ls = []\n",
    "\n",
    "for i in range(1, 134):\n",
    "    \n",
    "    b = df4.loc[i].nonzero()[0]\n",
    "    \n",
    "    count = 0\n",
    "    \n",
    "    for j in range(len(b)):\n",
    "        if b[j] in a:\n",
    "            count += 1\n",
    "    ls.append(count)\n",
    "    \n",
    "print(df3.loc[ls.index(max(ls))+1][0])"
   ]
  },
  {
   "cell_type": "code",
   "execution_count": 74,
   "metadata": {},
   "outputs": [
    {
     "data": {
      "text/plain": [
       "array([ 27,  99, 116, 117, 167, 169, 286, 367, 428, 429, 430, 438, 440,\n",
       "       441, 443, 449, 450, 451, 453, 454, 455, 461, 463, 470, 473, 475,\n",
       "       480, 481, 483, 485, 486, 487, 508, 513])"
      ]
     },
     "execution_count": 74,
     "metadata": {},
     "output_type": "execute_result"
    }
   ],
   "source": [
    "a"
   ]
  },
  {
   "cell_type": "code",
   "execution_count": 75,
   "metadata": {},
   "outputs": [],
   "source": [
    "b = df4.loc[ls.index(max(ls))+1].nonzero()[0]"
   ]
  },
  {
   "cell_type": "code",
   "execution_count": 76,
   "metadata": {},
   "outputs": [
    {
     "data": {
      "text/plain": [
       "array([  6,  14,  15,  16,  25,  26,  27,  62,  63,  66,  69,  94,  95,\n",
       "        96,  97,  98,  99, 100, 101, 102, 103, 104, 105, 106, 107, 108,\n",
       "       109, 110, 111, 112, 113, 114, 115, 116, 117, 118, 119, 120, 121,\n",
       "       122, 123, 124])"
      ]
     },
     "execution_count": 76,
     "metadata": {},
     "output_type": "execute_result"
    }
   ],
   "source": [
    "b"
   ]
  }
 ],
 "metadata": {
  "kernelspec": {
   "display_name": "Python 3",
   "language": "python",
   "name": "python3"
  },
  "language_info": {
   "codemirror_mode": {
    "name": "ipython",
    "version": 3
   },
   "file_extension": ".py",
   "mimetype": "text/x-python",
   "name": "python",
   "nbconvert_exporter": "python",
   "pygments_lexer": "ipython3",
   "version": "3.6.4"
  }
 },
 "nbformat": 4,
 "nbformat_minor": 2
}
