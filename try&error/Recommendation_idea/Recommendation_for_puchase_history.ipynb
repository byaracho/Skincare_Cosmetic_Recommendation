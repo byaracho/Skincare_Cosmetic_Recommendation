{
 "cells": [
  {
   "cell_type": "code",
   "execution_count": 1,
   "metadata": {},
   "outputs": [],
   "source": [
    "df1 = pd.read_csv('../ing_data/Ingredients_Effect2.csv')\n",
    "df2 = pd.read_csv('Product_p.csv')"
   ]
  },
  {
   "cell_type": "code",
   "execution_count": 20,
   "metadata": {},
   "outputs": [
    {
     "data": {
      "text/plain": [
       "array([ 21,  89, 130,  70, 120,   9,  49,  91])"
      ]
     },
     "execution_count": 20,
     "metadata": {},
     "output_type": "execute_result"
    }
   ],
   "source": [
    "#구매 히스토리\n",
    "n = np.random.randint(0, 133, 8)\n",
    "n"
   ]
  },
  {
   "cell_type": "code",
   "execution_count": 16,
   "metadata": {},
   "outputs": [],
   "source": [
    "ls = []\n",
    "\n",
    "for i in range(len(n)):\n",
    "    a = df2.loc[i].nonzero()[0]\n",
    "    for j in range(len(a)):\n",
    "        ls.append(a[j])\n",
    "    ls = list(set(ls))"
   ]
  },
  {
   "cell_type": "code",
   "execution_count": 19,
   "metadata": {},
   "outputs": [
    {
     "name": "stdout",
     "output_type": "stream",
     "text": [
      "“buffet”\n"
     ]
    }
   ],
   "source": [
    "for i in range(0, 133):\n",
    "    \n",
    "    b = df2.loc[i].nonzero()[0]\n",
    "    \n",
    "    count = 0\n",
    "    \n",
    "    for j in range(len(b)):\n",
    "        if b[j] in ls:\n",
    "            count += 1\n",
    "    ls.append(count)\n",
    "    \n",
    "print(df2.loc[ls.index(max(ls))][0])"
   ]
  }
 ],
 "metadata": {
  "kernelspec": {
   "display_name": "Python 3",
   "language": "python",
   "name": "python3"
  },
  "language_info": {
   "codemirror_mode": {
    "name": "ipython",
    "version": 3
   },
   "file_extension": ".py",
   "mimetype": "text/x-python",
   "name": "python",
   "nbconvert_exporter": "python",
   "pygments_lexer": "ipython3",
   "version": "3.6.4"
  }
 },
 "nbformat": 4,
 "nbformat_minor": 2
}
