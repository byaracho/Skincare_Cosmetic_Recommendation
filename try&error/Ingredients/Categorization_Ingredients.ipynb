{
 "cells": [
  {
   "cell_type": "code",
   "execution_count": 59,
   "metadata": {},
   "outputs": [],
   "source": [
    "df = pd.read_csv('Ingredients_Dictionary.csv', encoding='utf-8')"
   ]
  },
  {
   "cell_type": "code",
   "execution_count": 60,
   "metadata": {},
   "outputs": [],
   "source": [
    "df2 = pd.read_csv('Ingredients_keywords.csv')"
   ]
  },
  {
   "cell_type": "code",
   "execution_count": 53,
   "metadata": {},
   "outputs": [
    {
     "data": {
      "text/html": [
       "<div>\n",
       "<style scoped>\n",
       "    .dataframe tbody tr th:only-of-type {\n",
       "        vertical-align: middle;\n",
       "    }\n",
       "\n",
       "    .dataframe tbody tr th {\n",
       "        vertical-align: top;\n",
       "    }\n",
       "\n",
       "    .dataframe thead th {\n",
       "        text-align: right;\n",
       "    }\n",
       "</style>\n",
       "<table border=\"1\" class=\"dataframe\">\n",
       "  <thead>\n",
       "    <tr style=\"text-align: right;\">\n",
       "      <th></th>\n",
       "      <th>keyword</th>\n",
       "      <th>words</th>\n",
       "    </tr>\n",
       "  </thead>\n",
       "  <tbody>\n",
       "    <tr>\n",
       "      <th>0</th>\n",
       "      <td>expoliates1</td>\n",
       "      <td>AHA, BHA</td>\n",
       "    </tr>\n",
       "    <tr>\n",
       "      <th>1</th>\n",
       "      <td>expoliates2</td>\n",
       "      <td>expoliate, expoliates, expoliation, flakes, fl...</td>\n",
       "    </tr>\n",
       "    <tr>\n",
       "      <th>2</th>\n",
       "      <td>skin_texture</td>\n",
       "      <td>texture, smooth, somoother</td>\n",
       "    </tr>\n",
       "    <tr>\n",
       "      <th>3</th>\n",
       "      <td>skin_tone</td>\n",
       "      <td>tone, bright, brighter</td>\n",
       "    </tr>\n",
       "    <tr>\n",
       "      <th>4</th>\n",
       "      <td>sebum</td>\n",
       "      <td>sebum</td>\n",
       "    </tr>\n",
       "    <tr>\n",
       "      <th>5</th>\n",
       "      <td>hydration</td>\n",
       "      <td>hydrate, hydration</td>\n",
       "    </tr>\n",
       "    <tr>\n",
       "      <th>6</th>\n",
       "      <td>rosacea</td>\n",
       "      <td>rosacea, redness</td>\n",
       "    </tr>\n",
       "    <tr>\n",
       "      <th>7</th>\n",
       "      <td>pigmentation</td>\n",
       "      <td>pigmentation</td>\n",
       "    </tr>\n",
       "    <tr>\n",
       "      <th>8</th>\n",
       "      <td>ageing</td>\n",
       "      <td>ageing, antioxidant, renew, restore, restoring...</td>\n",
       "    </tr>\n",
       "    <tr>\n",
       "      <th>9</th>\n",
       "      <td>fine_lines</td>\n",
       "      <td>fold, lines</td>\n",
       "    </tr>\n",
       "    <tr>\n",
       "      <th>10</th>\n",
       "      <td>pore</td>\n",
       "      <td>pore</td>\n",
       "    </tr>\n",
       "    <tr>\n",
       "      <th>11</th>\n",
       "      <td>acne</td>\n",
       "      <td>acne, pimple, zit</td>\n",
       "    </tr>\n",
       "    <tr>\n",
       "      <th>12</th>\n",
       "      <td>blemishes</td>\n",
       "      <td>blemishes, freckle</td>\n",
       "    </tr>\n",
       "    <tr>\n",
       "      <th>13</th>\n",
       "      <td>soothing</td>\n",
       "      <td>soothe, soothe, soothing, emollience, emollien...</td>\n",
       "    </tr>\n",
       "    <tr>\n",
       "      <th>14</th>\n",
       "      <td>inflammation</td>\n",
       "      <td>inflammation</td>\n",
       "    </tr>\n",
       "    <tr>\n",
       "      <th>15</th>\n",
       "      <td>dark_circle</td>\n",
       "      <td>dark circle</td>\n",
       "    </tr>\n",
       "    <tr>\n",
       "      <th>16</th>\n",
       "      <td>puffiness</td>\n",
       "      <td>puffiness</td>\n",
       "    </tr>\n",
       "    <tr>\n",
       "      <th>17</th>\n",
       "      <td>radiant</td>\n",
       "      <td>radiant, radiance</td>\n",
       "    </tr>\n",
       "    <tr>\n",
       "      <th>18</th>\n",
       "      <td>scar</td>\n",
       "      <td>scar</td>\n",
       "    </tr>\n",
       "    <tr>\n",
       "      <th>19</th>\n",
       "      <td>skin_conditioning</td>\n",
       "      <td>thickening, thickness</td>\n",
       "    </tr>\n",
       "  </tbody>\n",
       "</table>\n",
       "</div>"
      ],
      "text/plain": [
       "              keyword                                              words\n",
       "0         expoliates1                                           AHA, BHA\n",
       "1         expoliates2  expoliate, expoliates, expoliation, flakes, fl...\n",
       "2        skin_texture                         texture, smooth, somoother\n",
       "3           skin_tone                             tone, bright, brighter\n",
       "4               sebum                                              sebum\n",
       "5           hydration                                 hydrate, hydration\n",
       "6             rosacea                                   rosacea, redness\n",
       "7        pigmentation                                       pigmentation\n",
       "8              ageing  ageing, antioxidant, renew, restore, restoring...\n",
       "9          fine_lines                                        fold, lines\n",
       "10               pore                                               pore\n",
       "11               acne                                  acne, pimple, zit\n",
       "12          blemishes                                 blemishes, freckle\n",
       "13           soothing  soothe, soothe, soothing, emollience, emollien...\n",
       "14       inflammation                                       inflammation\n",
       "15        dark_circle                                        dark circle\n",
       "16          puffiness                                          puffiness\n",
       "17            radiant                                  radiant, radiance\n",
       "18               scar                                               scar\n",
       "19  skin_conditioning                              thickening, thickness"
      ]
     },
     "execution_count": 53,
     "metadata": {},
     "output_type": "execute_result"
    }
   ],
   "source": [
    "df2"
   ]
  },
  {
   "cell_type": "code",
   "execution_count": 5,
   "metadata": {},
   "outputs": [
    {
     "data": {
      "text/html": [
       "<div>\n",
       "<style scoped>\n",
       "    .dataframe tbody tr th:only-of-type {\n",
       "        vertical-align: middle;\n",
       "    }\n",
       "\n",
       "    .dataframe tbody tr th {\n",
       "        vertical-align: top;\n",
       "    }\n",
       "\n",
       "    .dataframe thead th {\n",
       "        text-align: right;\n",
       "    }\n",
       "</style>\n",
       "<table border=\"1\" class=\"dataframe\">\n",
       "  <thead>\n",
       "    <tr style=\"text-align: right;\">\n",
       "      <th></th>\n",
       "      <th>Ingredients</th>\n",
       "      <th>Rate</th>\n",
       "      <th>Category</th>\n",
       "      <th>Information</th>\n",
       "    </tr>\n",
       "  </thead>\n",
       "  <tbody>\n",
       "    <tr>\n",
       "      <th>1395</th>\n",
       "      <td>sarcosine</td>\n",
       "      <td>GOOD</td>\n",
       "      <td>Hydration</td>\n",
       "      <td>A synthetic amino acid derivative that functio...</td>\n",
       "    </tr>\n",
       "    <tr>\n",
       "      <th>1396</th>\n",
       "      <td>Sargassum filipendula extract</td>\n",
       "      <td>GOOD</td>\n",
       "      <td>Antioxidants</td>\n",
       "      <td>none</td>\n",
       "    </tr>\n",
       "    <tr>\n",
       "      <th>1397</th>\n",
       "      <td>sausurrea oil</td>\n",
       "      <td>POOR</td>\n",
       "      <td>Plant Extracts</td>\n",
       "      <td>Also called costus oil. Volatile oil and fragr...</td>\n",
       "    </tr>\n",
       "    <tr>\n",
       "      <th>1398</th>\n",
       "      <td>Saxifraga sarmentosa extract</td>\n",
       "      <td>AVERAGE</td>\n",
       "      <td>Plant Extracts</td>\n",
       "      <td>none</td>\n",
       "    </tr>\n",
       "    <tr>\n",
       "      <th>1399</th>\n",
       "      <td>sclareolide</td>\n",
       "      <td>POOR</td>\n",
       "      <td>Plant Extracts</td>\n",
       "      <td>An ingredient that's fermented from clary sage...</td>\n",
       "    </tr>\n",
       "  </tbody>\n",
       "</table>\n",
       "</div>"
      ],
      "text/plain": [
       "                        Ingredients     Rate        Category  \\\n",
       "1395                      sarcosine     GOOD       Hydration   \n",
       "1396  Sargassum filipendula extract     GOOD    Antioxidants   \n",
       "1397                  sausurrea oil     POOR  Plant Extracts   \n",
       "1398   Saxifraga sarmentosa extract  AVERAGE  Plant Extracts   \n",
       "1399                    sclareolide     POOR  Plant Extracts   \n",
       "\n",
       "                                            Information  \n",
       "1395  A synthetic amino acid derivative that functio...  \n",
       "1396                                               none  \n",
       "1397  Also called costus oil. Volatile oil and fragr...  \n",
       "1398                                               none  \n",
       "1399  An ingredient that's fermented from clary sage...  "
      ]
     },
     "execution_count": 5,
     "metadata": {},
     "output_type": "execute_result"
    }
   ],
   "source": [
    "df.tail()"
   ]
  },
  {
   "cell_type": "code",
   "execution_count": 61,
   "metadata": {},
   "outputs": [],
   "source": [
    "key = []\n",
    "words = []\n",
    "\n",
    "for i in range(20):\n",
    "    keywords = df2.iloc[i]['keyword']\n",
    "    word = df2.iloc[i]['words'].split()\n",
    "    key.append(keywords)\n",
    "    words.append(word)"
   ]
  },
  {
   "cell_type": "code",
   "execution_count": 62,
   "metadata": {},
   "outputs": [],
   "source": [
    "ings2 = []"
   ]
  },
  {
   "cell_type": "code",
   "execution_count": 65,
   "metadata": {},
   "outputs": [
    {
     "data": {
      "text/plain": [
       "446"
      ]
     },
     "execution_count": 65,
     "metadata": {},
     "output_type": "execute_result"
    }
   ],
   "source": [
    "none = []\n",
    "\n",
    "for i in range(1715):\n",
    "    info = df['Information'][i].split()\n",
    "    if 'none' in info:\n",
    "        none.append(df['Ingredients'][i])\n",
    "        \n",
    "len(none)"
   ]
  },
  {
   "cell_type": "code",
   "execution_count": 66,
   "metadata": {},
   "outputs": [],
   "source": [
    "for j in range(20):\n",
    "    ings = []\n",
    "\n",
    "    for i in range(1715):\n",
    "        info = df['Information'][i].split()\n",
    "\n",
    "        for word in words[j]:\n",
    "            if word in info:\n",
    "                ings.append(df['Ingredients'][i])\n",
    "                \n",
    "    ings2.append(ings)"
   ]
  },
  {
   "cell_type": "code",
   "execution_count": 67,
   "metadata": {},
   "outputs": [
    {
     "data": {
      "text/plain": [
       "20"
      ]
     },
     "execution_count": 67,
     "metadata": {},
     "output_type": "execute_result"
    }
   ],
   "source": [
    "len(ings2)"
   ]
  },
  {
   "cell_type": "code",
   "execution_count": 68,
   "metadata": {},
   "outputs": [
    {
     "name": "stdout",
     "output_type": "stream",
     "text": [
      "4\n",
      "1\n",
      "21\n",
      "9\n",
      "2\n",
      "6\n",
      "4\n",
      "0\n",
      "18\n",
      "5\n",
      "1\n",
      "0\n",
      "1\n",
      "26\n",
      "0\n",
      "9\n",
      "1\n",
      "2\n",
      "0\n",
      "3\n"
     ]
    }
   ],
   "source": [
    "for i in range(20):\n",
    "    print(len(ings2[i]))"
   ]
  }
 ],
 "metadata": {
  "kernelspec": {
   "display_name": "Python 3",
   "language": "python",
   "name": "python3"
  },
  "language_info": {
   "codemirror_mode": {
    "name": "ipython",
    "version": 3
   },
   "file_extension": ".py",
   "mimetype": "text/x-python",
   "name": "python",
   "nbconvert_exporter": "python",
   "pygments_lexer": "ipython3",
   "version": "3.6.4"
  }
 },
 "nbformat": 4,
 "nbformat_minor": 2
}
